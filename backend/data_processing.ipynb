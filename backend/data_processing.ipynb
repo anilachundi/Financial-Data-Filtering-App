{
 "cells": [
  {
   "cell_type": "code",
   "execution_count": 2,
   "metadata": {},
   "outputs": [
    {
     "name": "stdout",
     "output_type": "stream",
     "text": [
      "Requirement already satisfied: pandas in c:\\users\\anila\\appdata\\local\\programs\\python\\python38\\lib\\site-packages (2.0.3)\n",
      "Requirement already satisfied: python-dateutil>=2.8.2 in c:\\users\\anila\\appdata\\roaming\\python\\python38\\site-packages (from pandas) (2.9.0.post0)\n",
      "Requirement already satisfied: pytz>=2020.1 in c:\\users\\anila\\appdata\\local\\programs\\python\\python38\\lib\\site-packages (from pandas) (2024.2)\n",
      "Requirement already satisfied: tzdata>=2022.1 in c:\\users\\anila\\appdata\\local\\programs\\python\\python38\\lib\\site-packages (from pandas) (2024.2)\n",
      "Requirement already satisfied: numpy>=1.20.3 in c:\\users\\anila\\appdata\\local\\programs\\python\\python38\\lib\\site-packages (from pandas) (1.24.4)\n",
      "Requirement already satisfied: six>=1.5 in c:\\users\\anila\\appdata\\roaming\\python\\python38\\site-packages (from python-dateutil>=2.8.2->pandas) (1.16.0)\n",
      "Requirement already satisfied: requests in c:\\users\\anila\\appdata\\local\\programs\\python\\python38\\lib\\site-packages (2.32.3)\n",
      "Requirement already satisfied: charset-normalizer<4,>=2 in c:\\users\\anila\\appdata\\local\\programs\\python\\python38\\lib\\site-packages (from requests) (3.4.0)\n",
      "Requirement already satisfied: idna<4,>=2.5 in c:\\users\\anila\\appdata\\local\\programs\\python\\python38\\lib\\site-packages (from requests) (3.10)\n",
      "Requirement already satisfied: urllib3<3,>=1.21.1 in c:\\users\\anila\\appdata\\local\\programs\\python\\python38\\lib\\site-packages (from requests) (2.2.3)\n",
      "Requirement already satisfied: certifi>=2017.4.17 in c:\\users\\anila\\appdata\\local\\programs\\python\\python38\\lib\\site-packages (from requests) (2024.8.30)\n"
     ]
    }
   ],
   "source": [
    "#api endpoint : https://financialmodelingprep.com/api/v3/income-statement/AAPL?period=annual&apikey=P9wVB0s4uzpr9nIhggYndhy97IpVL3oA\n",
    "! pip install pandas\n",
    "! pip install requests\n",
    "\n",
    "import pandas as pd\n",
    "import requests"
   ]
  },
  {
   "cell_type": "code",
   "execution_count": 8,
   "metadata": {},
   "outputs": [
    {
     "name": "stdout",
     "output_type": "stream",
     "text": [
      "<bound method NDFrame.head of          date       revenue    netIncome   grossProfit   eps  operatingIncome\n",
      "0  2024-09-28  391035000000  93736000000  180683000000  6.11     123216000000\n",
      "1  2023-09-30  383285000000  96995000000  169148000000  6.16     114301000000\n",
      "2  2022-09-24  394328000000  99803000000  170782000000  6.15     119437000000\n",
      "3  2021-09-25  365817000000  94680000000  152836000000  5.67     108949000000\n",
      "4  2020-09-26  274515000000  57411000000  104956000000  3.31      66288000000>\n"
     ]
    }
   ],
   "source": [
    "response = requests.get('https://financialmodelingprep.com/api/v3/income-statement/AAPL?period=annual&apikey=P9wVB0s4uzpr9nIhggYndhy97IpVL3oA').json()\n",
    "\n",
    "df = pd.DataFrame(response)\n",
    "\n",
    "df = df[[\"date\", \"revenue\", \"netIncome\", \"grossProfit\", \"eps\", \"operatingIncome\"]]\n",
    "print(df.head)"
   ]
  }
 ],
 "metadata": {
  "kernelspec": {
   "display_name": "Python 3",
   "language": "python",
   "name": "python3"
  },
  "language_info": {
   "codemirror_mode": {
    "name": "ipython",
    "version": 3
   },
   "file_extension": ".py",
   "mimetype": "text/x-python",
   "name": "python",
   "nbconvert_exporter": "python",
   "pygments_lexer": "ipython3",
   "version": "3.8.7"
  }
 },
 "nbformat": 4,
 "nbformat_minor": 2
}
